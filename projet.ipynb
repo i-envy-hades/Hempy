{
 "cells": [
  {
   "cell_type": "code",
   "execution_count": null,
   "id": "49ceccdc-c89b-45bf-b82c-e088524e0440",
   "metadata": {},
   "outputs": [],
   "source": [
    "ffffff\n"
   ]
  }
 ],
 "metadata": {
  "kernelspec": {
   "display_name": "Python 3 (ipykernel)",
   "language": "python",
   "name": "python3"
  },
  "language_info": {
   "codemirror_mode": {
    "name": "ipython",
    "version": 3
   },
   "file_extension": ".py",
   "mimetype": "text/x-python",
   "name": "python",
   "nbconvert_exporter": "python",
   "pygments_lexer": "ipython3",
   "version": "3.11.5"
  }
 },
 "nbformat": 4,
 "nbformat_minor": 5
}
