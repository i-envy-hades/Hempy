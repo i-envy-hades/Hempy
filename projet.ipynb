{
 "cells": [
  {
   "cell_type": "code",
   "execution_count": null,
   "id": "49ceccdc-c89b-45bf-b82c-e088524e0440",
   "metadata": {
    "tags": []
   },
   "outputs": [],
   "source": [
    "print(\"Hello canabis\")\n"
   ]
  },
  {
   "cell_type": "code",
   "execution_count": null,
   "id": "3a2a6520-fd4e-40c3-b738-a42c127c5333",
   "metadata": {},
   "outputs": [],
   "source": [
    "## THC: découverte 1960 environ\n",
    "#masse mol = 314,4617 ± 0,019 5 g/mol\n",
    "# formule : C21H30O2\n",
    "# name : tetrahydrocannabinol THC, synonyme : Δ9-THC, dronabinolum\n",
    "# UICPA : (6aR,10aR)-6,6,9-triméthyl-3-pentyl-6a,7,8,10a-tétrahydrobenzo[c]chromén-1-ol\n",
    "#propriétés: mol très fragile, hydrosolubilité nulle sauf si contact à graisse alors bonne, \n",
    "#se fixe aux récépteurs CB1, densité qui reste plusieurs jours dans le corps, substance pyschotrope\n",
    "# T° ébullition: 157°C\n",
    "# solubuility: 2,8 mg/L\n",
    "\n",
    "## CBD : isomere\n",
    "#name : cannabidiol, compo organique de famille cannabidoïl, 2e constituant après THC à 5% dans le chanvre\n",
    "# UICPA : 2-[(1R,6R)-6-isopropényl-3-méthylcyclohex-2-én-1-yl]-5-pentylbenzène-1,3-diol\n",
    "#mass molecualire = 314,4617 ± 0,019 5 g/mol\n",
    "#propriété chimique : très lipophile (dans lait maternelle et tissus apideux), diminue vigilance, effets sédatifs élevés\n",
    "# faire décroire élimination THC dans corps\n",
    "\n",
    "# cannabinoïdes : phytocannabinoïd = végétaux (présents dans cannabis), endocannabinoïdes = endogènes (sécrétés par les animaux), synthétique (en labo)\n",
    "\n",
    "# effects: national institute on drug abuse, Cannabis DrugFacts"
   ]
  },
  {
   "cell_type": "code",
   "execution_count": null,
   "id": "5cb031c3-4a1e-41fe-8d68-5a0440a1b3db",
   "metadata": {},
   "outputs": [],
   "source": [
    "from "
   ]
  },
  {
   "cell_type": "code",
   "execution_count": null,
   "id": "2b0266af-626b-4dea-b8e8-bc1f1b81fde4",
   "metadata": {
    "tags": []
   },
   "outputs": [],
   "source": [
    "from rdkit import Chem\n",
    "from rdkit.Chem.Draw import IPythonConsole\n",
    "IPythonConsole.ipython_useSVG=True\n",
    "\n",
    "THC = Chem.MolFromSmiles(\"CCCCCC1=CC(=C2C3C=C(CCC3C(OC2=C1)(C)C)C)O\") #dronabinol from PubChem\n",
    "\n",
    "print(THC)\n"
   ]
  },
  {
   "cell_type": "code",
   "execution_count": null,
   "id": "418f1ce5-2a49-481c-9e4e-5f789f5b2744",
   "metadata": {
    "tags": []
   },
   "outputs": [],
   "source": [
    "THC"
   ]
  },
  {
   "cell_type": "code",
   "execution_count": null,
   "id": "91091172-4045-4126-b71b-7f7ea6b10822",
   "metadata": {
    "tags": []
   },
   "outputs": [],
   "source": [
    "\n",
    "\n",
    "CBD = Chem.MolFromSmiles(\"CCCCCC1=CC(=C(C(=C1)O)C2C=C(CCC2C(=C)C)C)O\") #cannabidiol from PubChem\n",
    "\n",
    "print(CBD)"
   ]
  },
  {
   "cell_type": "code",
   "execution_count": null,
   "id": "c6829d1d-f7e9-4571-8a36-5f79fd375925",
   "metadata": {
    "tags": []
   },
   "outputs": [],
   "source": [
    "CBD"
   ]
  },
  {
   "cell_type": "code",
   "execution_count": null,
   "id": "cd276097-a2b4-4919-9993-d8bd8e14ee92",
   "metadata": {},
   "outputs": [],
   "source": []
  }
 ],
 "metadata": {
  "kernelspec": {
   "display_name": "Python 3 (ipykernel)",
   "language": "python",
   "name": "python3"
  },
  "language_info": {
   "codemirror_mode": {
    "name": "ipython",
    "version": 3
   },
   "file_extension": ".py",
   "mimetype": "text/x-python",
   "name": "python",
   "nbconvert_exporter": "python",
   "pygments_lexer": "ipython3",
   "version": "3.11.5"
  }
 },
 "nbformat": 4,
 "nbformat_minor": 5
}
