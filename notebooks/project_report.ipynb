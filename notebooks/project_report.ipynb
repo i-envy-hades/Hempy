{
 "cells": [
  {
   "cell_type": "code",
   "execution_count": 2,
   "id": "38ec811c-5611-4423-a5d1-21cd476e3f00",
   "metadata": {},
   "outputs": [
    {
     "ename": "ModuleNotFoundError",
     "evalue": "No module named 'hempy'",
     "output_type": "error",
     "traceback": [
      "\u001b[0;31m---------------------------------------------------------------------------\u001b[0m",
      "\u001b[0;31mModuleNotFoundError\u001b[0m                       Traceback (most recent call last)",
      "Cell \u001b[0;32mIn[2], line 6\u001b[0m\n\u001b[1;32m      3\u001b[0m \u001b[38;5;28;01mfrom\u001b[39;00m \u001b[38;5;21;01mIPython\u001b[39;00m\u001b[38;5;21;01m.\u001b[39;00m\u001b[38;5;21;01mdisplay\u001b[39;00m \u001b[38;5;28;01mimport\u001b[39;00m display\n\u001b[1;32m      4\u001b[0m \u001b[38;5;66;03m#All imports required for the functions, just like the code\u001b[39;00m\n\u001b[0;32m----> 6\u001b[0m \u001b[38;5;28;01mfrom\u001b[39;00m \u001b[38;5;21;01mhempy\u001b[39;00m\u001b[38;5;21;01m.\u001b[39;00m\u001b[38;5;21;01msynthesis_reactions\u001b[39;00m \u001b[38;5;28;01mimport\u001b[39;00m \u001b[38;5;241m*\u001b[39m\n",
      "\u001b[0;31mModuleNotFoundError\u001b[0m: No module named 'hempy'"
     ]
    }
   ],
   "source": [
    "from rdkit import Chem\n",
    "from rdkit.Chem import Draw, AllChem\n",
    "from IPython.display import display\n",
    "#All imports required for the functions, just like the code\n",
    "\n",
    "from hempy.synthesis_reactions import *"
   ]
  },
  {
   "cell_type": "code",
   "execution_count": 3,
   "id": "09de1925-2515-4293-81c2-a3cc88a878e1",
   "metadata": {},
   "outputs": [
    {
     "ename": "NameError",
     "evalue": "name 'visualize_THC_synthesis' is not defined",
     "output_type": "error",
     "traceback": [
      "\u001b[0;31m---------------------------------------------------------------------------\u001b[0m",
      "\u001b[0;31mNameError\u001b[0m                                 Traceback (most recent call last)",
      "Cell \u001b[0;32mIn[3], line 2\u001b[0m\n\u001b[1;32m      1\u001b[0m \u001b[38;5;66;03m#Reactions of THC and CBD synthesis can easily be seen with these functions\u001b[39;00m\n\u001b[0;32m----> 2\u001b[0m visualize_THC_synthesis()\n\u001b[1;32m      3\u001b[0m visualize_CBD_synthesis()\n",
      "\u001b[0;31mNameError\u001b[0m: name 'visualize_THC_synthesis' is not defined"
     ]
    }
   ],
   "source": [
    "#Reactions of THC and CBD synthesis can easily be seen with these functions\n",
    "visualize_THC_synthesis()\n",
    "visualize_CBD_synthesis()"
   ]
  },
  {
   "cell_type": "code",
   "execution_count": null,
   "id": "c49a7681-8eb0-4cc5-a1be-14fcc2996899",
   "metadata": {},
   "outputs": [],
   "source": []
  }
 ],
 "metadata": {
  "kernelspec": {
   "display_name": "Python 3 (ipykernel)",
   "language": "python",
   "name": "python3"
  },
  "language_info": {
   "codemirror_mode": {
    "name": "ipython",
    "version": 3
   },
   "file_extension": ".py",
   "mimetype": "text/x-python",
   "name": "python",
   "nbconvert_exporter": "python",
   "pygments_lexer": "ipython3",
   "version": "3.11.5"
  }
 },
 "nbformat": 4,
 "nbformat_minor": 5
}
