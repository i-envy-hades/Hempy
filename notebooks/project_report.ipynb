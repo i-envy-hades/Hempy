{
 "cells": [
  {
   "cell_type": "markdown",
   "id": "3a8a0689-e469-4712-ab32-b2d04a0c3300",
   "metadata": {},
   "source": [
    "# Data Analysis On Cannabidiol\n",
    "#### As students, we're bound to know or have seen young people around us using cannabis. That's why we were directly interested in these molecules, to learn more about them from a chemical point of view.\n",
    "#### Cannabis is a smokable substance made up of molecules from the cannabidiol family, the main ones being THC and CBD. These two molecules form the basis of our study. "
   ]
  },
  {
   "cell_type": "code",
   "execution_count": null,
   "id": "c4349833-988c-4c94-8132-3caf5dcf89ed",
   "metadata": {},
   "outputs": [],
   "source": [
    "from hempy import *"
   ]
  },
  {
   "cell_type": "markdown",
   "id": "f219ed28-a677-404e-8b17-2a962615af64",
   "metadata": {},
   "source": [
    "The modules of our package are imported, whether functions, classes, variables or definitions, and are now accessible."
   ]
  },
  {
   "cell_type": "code",
   "execution_count": null,
   "id": "b3252826-fd0c-4e09-a05f-3f54c52ee65b",
   "metadata": {},
   "outputs": [],
   "source": [
    "molecule_properties.smiles_code(\"THC\")"
   ]
  },
  {
   "cell_type": "code",
   "execution_count": null,
   "id": "ef30a3d6-2904-4cf3-aa1e-88baec34913c",
   "metadata": {},
   "outputs": [],
   "source": [
    "molecule_properties.smiles_code(\"CBD\")"
   ]
  },
  {
   "cell_type": "markdown",
   "id": "5f7be8a3-953a-4822-bd8d-da4294848d2d",
   "metadata": {},
   "source": [
    "This function takes the names of the molecules studied, in this case THC and CBD, and returns their corresponding smiles codes. This line calls the `smiles.code` method on the `molecule_properties` object, taking `\"THC\"`as argument.\n",
    "\n",
    "The SMILES code is a standard way of describing the structure of a molecule using a string of characters. These are textual representations of chemical structures.\n",
    "\n",
    "References : PubChem for the SMILES : https://pubchem.ncbi.nlm.nih.gov/search/help_search.html"
   ]
  },
  {
   "cell_type": "code",
   "execution_count": null,
   "id": "b75fb3e9-a4fe-4396-b713-c00c631c3451",
   "metadata": {},
   "outputs": [],
   "source": [
    "from rdkit import Chem\n",
    "\n",
    "THC_smiles = \"CCCCCC1=CC(=C2C3C=C(CCC3C(OC2=C1)(C)C)C)O\"\n",
    "CBD_smiles = \"CCCCCC1=CC(=C(C(=C1)O)C2C=C(CCC2C(=C)C)C)O\"\n",
    "\n",
    "THC_mol = Chem.MolFromSmiles(THC_smiles)\n",
    "CBD_mol = Chem.MolFromSmiles(CBD_smiles)"
   ]
  },
  {
   "cell_type": "markdown",
   "id": "1d4a0ad7-c78d-4cb7-a901-e7a19825d829",
   "metadata": {},
   "source": [
    "This code imports RDKit's `Chem` module, defines SMILES chains with strings for THC and CBD molecules, then converts these chains into RDKit molecular objects `Mol`. This makes it possible to manipulate the molecules programmatically and use the RDKit library to analyze and visualize chemical structures."
   ]
  },
  {
   "cell_type": "code",
   "execution_count": null,
   "id": "d3e7aa75-9c80-4516-96e5-6c1a53c1fffe",
   "metadata": {},
   "outputs": [],
   "source": [
    "molecule_visualization.draw_2D(THC_smiles)"
   ]
  },
  {
   "cell_type": "code",
   "execution_count": null,
   "id": "1656d19b-c1d9-4903-b614-f2abd9a830dd",
   "metadata": {},
   "outputs": [],
   "source": [
    "molecule_visualization.draw_2D(CBD_smiles)"
   ]
  },
  {
   "cell_type": "markdown",
   "id": "33870805-51f2-42ba-9e89-07229f4be497",
   "metadata": {},
   "source": [
    "This line of code calls the `draw_2D` method on the `molecule_visualization` object, giving it the smiles string of the desired molecule.\n",
    "\n",
    "The challenges for these functions were to learn how to manipulate sklearn.metrics"
   ]
  },
  {
   "cell_type": "code",
   "execution_count": null,
   "id": "a368ea4e-36f0-4146-9a99-97e707d6a60f",
   "metadata": {},
   "outputs": [],
   "source": [
    "molecule_visualization.draw_3D(THC_mol,\"THC.pdb\")"
   ]
  },
  {
   "cell_type": "code",
   "execution_count": null,
   "id": "a94310c2-8f5b-4d80-aca6-56abba616b77",
   "metadata": {},
   "outputs": [],
   "source": [
    "molecule_visualization.draw_3D(CBD_mol,\"CBD.pdb\")"
   ]
  },
  {
   "cell_type": "markdown",
   "id": "933aee94-9330-4f9f-a6fd-76eb89797d49",
   "metadata": {},
   "source": [
    "This fonction generate a 3D representation of the THC and CBD and save it in a PDB file.\n",
    "\n",
    "This line of code calls the `draw_3D` method on the `molecule_visualization` object, passing it two arguments:\n",
    "\n",
    "For example: \n",
    "`THC_mol`: the molecule object representing THC.\n",
    "`\"THC.pdb\"`: the name of the file in which the molecule's 3D structure will be saved.\n",
    "\n",
    "The challenges for these functions were to learn how to manipulate nglview.\n",
    "\n",
    "References : ChatGPT, Chemdraw"
   ]
  },
  {
   "cell_type": "code",
   "execution_count": null,
   "id": "acd2c16a-23fc-4a2a-97ae-cb64e97d600b",
   "metadata": {},
   "outputs": [],
   "source": [
    "cas_number='1972-08-3' #CAS for THC\n",
    "\n",
    "properties_data, chemical_url = molecule_properties.fetch_chemical_properties_by_cas(cas_number)\n",
    "\n",
    "display(properties_data) \n",
    "print(f\"URL to chemical page: {chemical_url}\")"
   ]
  },
  {
   "cell_type": "markdown",
   "id": "9495281e-eb92-4675-845a-c8ffcccdda64",
   "metadata": {},
   "source": [
    "This code contains a `molecule_properties` module with a method for retrieving chemical properties from a CAS number.\n",
    "\n",
    "The CAS number for THC is defined and the function `fetch_chemical_properties_by_cas` is called with this number. It returns a dictionary containing the chemical properties of THC and a URL to a web page with more information. `display` displays the chemical properties in a table. The URL is printed to provide a direct link to further information.\n",
    "\n",
    "The CAS number is a unique, unambiguous identifier for a specific molecule. It links all available data and research on this substance."
   ]
  },
  {
   "cell_type": "markdown",
   "id": "f7e43a7a-3780-4ba9-9769-08d7d28a708c",
   "metadata": {},
   "source": [
    "The main challenge of this function was to be able to go online from the Jupyter space to retrieve the desired URL."
   ]
  },
  {
   "cell_type": "code",
   "execution_count": null,
   "id": "fd8b6dc9-157b-484c-a78c-1585ff329632",
   "metadata": {},
   "outputs": [],
   "source": [
    "similarity_jaccard, similarity_tanimoto = molecule_properties.calculate_molecular_similarity(THC_mol, CBD_mol)\n",
    "\n",
    "print(\"Similarity (Jaccard):\", similarity_jaccard)\n",
    "print(\"Similarity (Tanimoto):\", similarity_tanimoto)"
   ]
  },
  {
   "cell_type": "markdown",
   "id": "0c9602fc-4997-482b-9d3f-c276b0dd9430",
   "metadata": {},
   "source": [
    "This line calls up a method for calculating Jaccard and Tanimoto similarities between two molecules, in this case THC and CBD. It also stores these results in the variables `similarity_jaccard and similarity_tanimoto`. These similarities are then displayed. \n",
    "\n",
    "Molecular similarity is a measure used in computational chemistry to assess how similar two molecules are. Jaccard and Tanimoto indices are often used for this purpose. The closer the index is to 1, the greater the similarity between two molecules.\n",
    "\n",
    "The red message that appears is not an error message as you might think, but an information message. The machine informs us that the values we gave it in bolleans have been converted to jarccard matrix. This message serves to warn that a change has been made, if this type is not suitable for future functions. \n",
    "\n",
    "References : geeksforgeeks.org : https://www.geeksforgeeks.org/how-to-calculate-jaccard-similarity-in-python/ and stackoverflow.com : https://stackoverflow.com/questions/50683128/python-how-to-compute-the-jaccard-index-between-two-networks"
   ]
  },
  {
   "cell_type": "code",
   "execution_count": null,
   "id": "1e963a6d-4168-470d-826c-696e52f77fcb",
   "metadata": {},
   "outputs": [],
   "source": [
    "synthesis_reactions.visualize_THC_synthesis()"
   ]
  },
  {
   "cell_type": "code",
   "execution_count": null,
   "id": "1a5ec43b-e6b8-4ade-a801-8233b54e5a21",
   "metadata": {},
   "outputs": [],
   "source": [
    "synthesis_reactions.visualize_CBD_synthesis()"
   ]
  },
  {
   "cell_type": "markdown",
   "id": "ad3dc932-a934-497d-8af9-d2d6ea1f21a8",
   "metadata": {},
   "source": [
    "These lines of code call a method for generating and displaying a graphical representation of the THC chemical synthesis process. \n",
    "\n",
    "For this, RDKIT's `Chem` and `draw` are used, which manipulate and draw molecular objects. Each step in the synthesis is a dictionary with reactants and products represented by their SMILES chains, converted into objects and then displayed as images. \n",
    "\n",
    "The visualization is useful to better understand the steps involved in THC and CBD synthesis."
   ]
  },
  {
   "cell_type": "markdown",
   "id": "c1a89615-5dee-4383-b7ed-55c622e3405d",
   "metadata": {},
   "source": [
    "This code is limited to showing only this specified reaction. To be able to make a global function to write all possible reactions in chemistry would be far too complicated, if not impossible. "
   ]
  },
  {
   "cell_type": "code",
   "execution_count": null,
   "id": "2d8cc9de-43fa-41a8-b14b-251f7b330ad2",
   "metadata": {},
   "outputs": [],
   "source": [
    "survey_results.plot_consumption_percentage()"
   ]
  },
  {
   "cell_type": "markdown",
   "id": "ff9a8df1-ce2e-434f-8a11-ab69dbd12255",
   "metadata": {},
   "source": [
    "This line of code calls a method for generating and displaying a graph representing the consumption percentages obtained from the results of a survey. \n",
    "\n",
    "The `matplotlib.pyplot` library is imported under the name `plt` to create graphs. The `SurveyResults` class is initialized with survey data stored in `self.data` and `plot_consumption_percentage generates a bar chart representing consumption percentages for different categories. A `data dictionary contains the consumption categories and their respective percentages.\n",
    "\n",
    "These analyses provide a better understanding of participants' THC and CBD consumption trends and behaviors."
   ]
  },
  {
   "cell_type": "code",
   "execution_count": null,
   "id": "e41039fc-93cf-4ac5-a460-210e81282828",
   "metadata": {},
   "outputs": [],
   "source": [
    "survey_results.plot_time_vs_age()"
   ]
  },
  {
   "cell_type": "markdown",
   "id": "463b38af-b79f-4031-ad60-9f73c8b81644",
   "metadata": {},
   "source": [
    "The code line `survey_results.plot_time_vs_age()` calls a method for generating and displaying a graph of time versus age of participants.\n",
    "The `SurveyResults` class is initialized with lists of ages `ages` and times `times`.\n",
    "The `plot_time_vs_age` method generates a scatter plot of time spent versus age of participants.\n",
    "\n",
    "This analysis allows us to present the relationships between two quantitative variables, providing a better understanding of how time spent varies with the age of the participants."
   ]
  },
  {
   "cell_type": "markdown",
   "id": "68e8b94e-4016-4f4c-beb1-823b2211fd62",
   "metadata": {},
   "source": [
    "This survey does not explain why a 24-year-old has a longer effect duration than others. It only serves to observe the results. To interpret it, biological research or other tests on a larger population could be carried out, which is not our task here. \n",
    "\n",
    "The challenges for these functions were to learn how to manipulate the Beautiful Soup and Requests libraries.\n",
    "\n",
    "Références : ChatGPT, geeksforgeeks.org"
   ]
  },
  {
   "cell_type": "code",
   "execution_count": null,
   "id": "cccaf87f-e1e5-48d9-8e2d-2a1785863742",
   "metadata": {},
   "outputs": [],
   "source": []
  }
 ],
 "metadata": {
  "kernelspec": {
   "display_name": "Python 3 (ipykernel)",
   "language": "python",
   "name": "python3"
  },
  "language_info": {
   "codemirror_mode": {
    "name": "ipython",
    "version": 3
   },
   "file_extension": ".py",
   "mimetype": "text/x-python",
   "name": "python",
   "nbconvert_exporter": "python",
   "pygments_lexer": "ipython3",
   "version": "3.11.5"
  }
 },
 "nbformat": 4,
 "nbformat_minor": 5
}
