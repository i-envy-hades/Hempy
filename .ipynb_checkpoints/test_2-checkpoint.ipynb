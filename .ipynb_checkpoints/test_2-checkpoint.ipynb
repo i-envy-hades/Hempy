{
 "cells": [
  {
   "cell_type": "code",
   "execution_count": 11,
   "id": "d0ce3771-2b37-402a-8c62-0027ed21a81b",
   "metadata": {},
   "outputs": [],
   "source": [
    "from hempy.molecule_visualization import *"
   ]
  },
  {
   "cell_type": "code",
   "execution_count": 12,
   "id": "507f8bd1-faac-4f1d-b953-2e2807670991",
   "metadata": {},
   "outputs": [],
   "source": [
    "def test_draw_3D():\n",
    "    THC = \"CCCCCC1=CC(=C2C3C=C(CCC3C(OC2=C1)(C)C)C)O\" #Choose a random SMILES code, for example propane\n",
    "    draw_3D(THC, \"THC.pdb\")\n",
    "#Verify that something is drawn\n"
   ]
  },
  {
   "cell_type": "code",
   "execution_count": 13,
   "id": "36b541df-a451-4c32-9795-8e279ff2c552",
   "metadata": {
    "scrolled": true
   },
   "outputs": [
    {
     "ename": "ArgumentError",
     "evalue": "Python argument types in\n    rdkit.Chem.rdmolops.AddHs(str)\ndid not match C++ signature:\n    AddHs(RDKit::ROMol mol, bool explicitOnly=False, bool addCoords=False, boost::python::api::object onlyOnAtoms=None, bool addResidueInfo=False)",
     "output_type": "error",
     "traceback": [
      "\u001b[0;31m---------------------------------------------------------------------------\u001b[0m",
      "\u001b[0;31mArgumentError\u001b[0m                             Traceback (most recent call last)",
      "Cell \u001b[0;32mIn[13], line 1\u001b[0m\n\u001b[0;32m----> 1\u001b[0m test_draw_3D()\n",
      "Cell \u001b[0;32mIn[12], line 3\u001b[0m, in \u001b[0;36mtest_draw_3D\u001b[0;34m()\u001b[0m\n\u001b[1;32m      1\u001b[0m \u001b[38;5;28;01mdef\u001b[39;00m \u001b[38;5;21mtest_draw_3D\u001b[39m():\n\u001b[1;32m      2\u001b[0m     THC \u001b[38;5;241m=\u001b[39m \u001b[38;5;124m\"\u001b[39m\u001b[38;5;124mCCCCCC1=CC(=C2C3C=C(CCC3C(OC2=C1)(C)C)C)O\u001b[39m\u001b[38;5;124m\"\u001b[39m \u001b[38;5;66;03m#Choose a random SMILES code, for example propane\u001b[39;00m\n\u001b[0;32m----> 3\u001b[0m     draw_3D(THC, \u001b[38;5;124m\"\u001b[39m\u001b[38;5;124mTHC.pdb\u001b[39m\u001b[38;5;124m\"\u001b[39m)\n",
      "File \u001b[0;32m~/Desktop/Cours EPFL/pract-prog/Project-2024/hempy/molecule_visualization.py:56\u001b[0m, in \u001b[0;36mdraw_3D\u001b[0;34m(molecule, filename)\u001b[0m\n\u001b[1;32m     41\u001b[0m \u001b[38;5;250m\u001b[39m\u001b[38;5;124;03m\"\"\"\u001b[39;00m\n\u001b[1;32m     42\u001b[0m \u001b[38;5;124;03mGenerates a 3D structure from a RDKit Molecule object.\u001b[39;00m\n\u001b[1;32m     43\u001b[0m \n\u001b[0;32m   (...)\u001b[0m\n\u001b[1;32m     52\u001b[0m \u001b[38;5;124;03m\u001b[39;00m\n\u001b[1;32m     53\u001b[0m \u001b[38;5;124;03m\"\"\"\u001b[39;00m\n\u001b[1;32m     55\u001b[0m \u001b[38;5;66;03m# Ajouter des hydrogènes aux molécules\u001b[39;00m\n\u001b[0;32m---> 56\u001b[0m mol \u001b[38;5;241m=\u001b[39m Chem\u001b[38;5;241m.\u001b[39mAddHs(molecule)\n\u001b[1;32m     58\u001b[0m \u001b[38;5;66;03m# Générer les coordonnées 3D\u001b[39;00m\n\u001b[1;32m     59\u001b[0m AllChem\u001b[38;5;241m.\u001b[39mEmbedMolecule(mol)\n",
      "\u001b[0;31mArgumentError\u001b[0m: Python argument types in\n    rdkit.Chem.rdmolops.AddHs(str)\ndid not match C++ signature:\n    AddHs(RDKit::ROMol mol, bool explicitOnly=False, bool addCoords=False, boost::python::api::object onlyOnAtoms=None, bool addResidueInfo=False)"
     ]
    }
   ],
   "source": [
    "test_draw_3D()"
   ]
  },
  {
   "cell_type": "code",
   "execution_count": 3,
   "id": "51559466-7606-4270-8fb5-a40bcdf3ad27",
   "metadata": {},
   "outputs": [
    {
     "name": "stderr",
     "output_type": "stream",
     "text": [
      "\u001b[31mERROR: usage: ipykernel_launcher.py [options] [file_or_dir] [file_or_dir] [...]\n",
      "ipykernel_launcher.py: error: unrecognized arguments: -f\n",
      "  inifile: None\n",
      "  rootdir: /Users/loumacerutti\n",
      "\u001b[0m\n"
     ]
    }
   ],
   "source": [
    "import os\n",
    "import pytest\n",
    "from hempy.molecule_visualization import draw_3D\n",
    "\n",
    "def test_draw_3D_pdb_file():\n",
    "    # Define a SMILES string for a simple molecule (e.g., ethanol)\n",
    "    smiles = \"CCO\"\n",
    "    # Define the output filename\n",
    "    filename = \"test_molecule.pdb\"\n",
    "\n",
    "    try:\n",
    "        # Call the draw_3D function\n",
    "        draw_3D(smiles, filename)\n",
    "\n",
    "        # Check if the file has been created\n",
    "        assert os.path.isfile(filename)\n",
    "    finally:\n",
    "        # Clean up the test file if it was created\n",
    "        if os.path.isfile(filename):\n",
    "            os.remove(filename)\n",
    "\n",
    "if __name__ == \"__main__\":\n",
    "    pytest.main()"
   ]
  },
  {
   "cell_type": "code",
   "execution_count": null,
   "id": "482fcdf5-6aa6-447b-9aec-070c06d7a0f0",
   "metadata": {},
   "outputs": [],
   "source": []
  }
 ],
 "metadata": {
  "kernelspec": {
   "display_name": "Python 3 (ipykernel)",
   "language": "python",
   "name": "python3"
  },
  "language_info": {
   "codemirror_mode": {
    "name": "ipython",
    "version": 3
   },
   "file_extension": ".py",
   "mimetype": "text/x-python",
   "name": "python",
   "nbconvert_exporter": "python",
   "pygments_lexer": "ipython3",
   "version": "3.11.5"
  }
 },
 "nbformat": 4,
 "nbformat_minor": 5
}
