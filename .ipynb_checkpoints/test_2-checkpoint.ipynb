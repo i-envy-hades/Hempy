{
 "cells": [
  {
   "cell_type": "code",
   "execution_count": 1,
   "id": "d0ce3771-2b37-402a-8c62-0027ed21a81b",
   "metadata": {},
   "outputs": [],
   "source": [
    "from hempy.molecule_properties import fetch_chemical_properties_by_cas"
   ]
  },
  {
   "cell_type": "code",
   "execution_count": 25,
   "id": "507f8bd1-faac-4f1d-b953-2e2807670991",
   "metadata": {},
   "outputs": [],
   "source": [
    "def test_fetch_chemical_properties_by_cas():\n",
    "    # Test with a valid CAS number, for example formaldehyde (CAS code: 50-00-0)\n",
    "    cas_number = \"50-00-0\"  \n",
    "    data, final_url = fetch_chemical_properties_by_cas(cas_number)\n",
    "    assert \"Error\" not in data.to_string() \n",
    "    \n",
    "    # Test with an invalid CAS number\n",
    "    invalid_cas_number = \"invalid_cas_number\"\n",
    "    data, final_url = fetch_chemical_properties_by_cas(invalid_cas_number)\n",
    "    assert \"None\" in data.to_string()  # Check if an error message is returned"
   ]
  },
  {
   "cell_type": "code",
   "execution_count": 23,
   "id": "36b541df-a451-4c32-9795-8e279ff2c552",
   "metadata": {
    "scrolled": true
   },
   "outputs": [
    {
     "name": "stdout",
     "output_type": "stream",
     "text": [
      " Property Value\n",
      "0 Molecular Formula None\n",
      "1 Average mass None\n",
      "2 Monoisotopic mass None\n",
      "\n"
     ]
    },
    {
     "ename": "TypeError",
     "evalue": "'Styler' object is not subscriptable",
     "output_type": "error",
     "traceback": [
      "\u001b[0;31m---------------------------------------------------------------------------\u001b[0m",
      "\u001b[0;31mTypeError\u001b[0m                                 Traceback (most recent call last)",
      "Cell \u001b[0;32mIn[23], line 1\u001b[0m\n\u001b[0;32m----> 1\u001b[0m test_fetch_chemical_properties_by_cas()\n",
      "Cell \u001b[0;32mIn[22], line 12\u001b[0m, in \u001b[0;36mtest_fetch_chemical_properties_by_cas\u001b[0;34m()\u001b[0m\n\u001b[1;32m      9\u001b[0m data, final_url \u001b[38;5;241m=\u001b[39m fetch_chemical_properties_by_cas(invalid_cas_number)\n\u001b[1;32m     10\u001b[0m \u001b[38;5;28mprint\u001b[39m(data\u001b[38;5;241m.\u001b[39mto_string())\n\u001b[0;32m---> 12\u001b[0m \u001b[38;5;28mprint\u001b[39m(data[\u001b[38;5;124m\"\u001b[39m\u001b[38;5;124mProperty\u001b[39m\u001b[38;5;124m\"\u001b[39m])\n\u001b[1;32m     13\u001b[0m \u001b[38;5;28mprint\u001b[39m()\n\u001b[1;32m     14\u001b[0m \u001b[38;5;28;01massert\u001b[39;00m \u001b[38;5;124m\"\u001b[39m\u001b[38;5;124mNone\u001b[39m\u001b[38;5;124m\"\u001b[39m \u001b[38;5;129;01min\u001b[39;00m data\u001b[38;5;241m.\u001b[39mto_string()\n",
      "\u001b[0;31mTypeError\u001b[0m: 'Styler' object is not subscriptable"
     ]
    }
   ],
   "source": [
    "test_fetch_chemical_properties_by_cas()"
   ]
  },
  {
   "cell_type": "code",
   "execution_count": null,
   "id": "51559466-7606-4270-8fb5-a40bcdf3ad27",
   "metadata": {},
   "outputs": [],
   "source": []
  }
 ],
 "metadata": {
  "kernelspec": {
   "display_name": "Python 3 (ipykernel)",
   "language": "python",
   "name": "python3"
  },
  "language_info": {
   "codemirror_mode": {
    "name": "ipython",
    "version": 3
   },
   "file_extension": ".py",
   "mimetype": "text/x-python",
   "name": "python",
   "nbconvert_exporter": "python",
   "pygments_lexer": "ipython3",
   "version": "3.11.5"
  }
 },
 "nbformat": 4,
 "nbformat_minor": 5
}
