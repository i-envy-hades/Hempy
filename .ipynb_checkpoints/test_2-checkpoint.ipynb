{
 "cells": [
  {
   "cell_type": "code",
   "execution_count": 39,
   "id": "d0ce3771-2b37-402a-8c62-0027ed21a81b",
   "metadata": {},
   "outputs": [],
   "source": [
    "from hempy.molecule_properties import calculate_molecular_similarity\n",
    "import numpy as np\n",
    "from rdkit import Chem\n",
    "from rdkit.Chem import AllChem\n",
    "from rdkit import DataStructs\n",
    "from sklearn.metrics import pairwise_distances"
   ]
  },
  {
   "cell_type": "code",
   "execution_count": 40,
   "id": "507f8bd1-faac-4f1d-b953-2e2807670991",
   "metadata": {},
   "outputs": [],
   "source": [
    "def test_calculate_molecular_similarity():\n",
    "   # Exemple de molécules (vous pouvez les remplacer par vos propres molécules)\n",
    "    mol_1 = Chem.MolFromSmiles(\"CCO\")  # Exemple de molécule 1 (éthanol)\n",
    "    mol_2 = Chem.MolFromSmiles(\"CC(=O)O\")  # Exemple de molécule 2 (acide acétique)\n",
    "\n",
    "    # Générer des empreintes moléculaires pour le THC et le CBD\n",
    "    fp_1 = AllChem.GetMorganFingerprintAsBitVect(mol_1, 2, nBits=1024)\n",
    "    fp_2 = AllChem.GetMorganFingerprintAsBitVect(mol_2, 2, nBits=1024)\n",
    "\n",
    "    # Convertir en vecteurs numpy\n",
    "    array_1 = np.zeros((1,))\n",
    "    array_2 = np.zeros((1,))\n",
    "    DataStructs.ConvertToNumpyArray(fp_1, array_1)\n",
    "    DataStructs.ConvertToNumpyArray(fp_2, array_2)\n",
    "    \n",
    "    # Calculer la similarité de Jaccard\n",
    "    similarity_jaccard = 1 - pairwise_distances(array_1.reshape(1, -1), array_2.reshape(1, -1), metric=\"jaccard\")[0][0]\n",
    "\n",
    "    # Calculer la similarité de Tanimoto\n",
    "    similarity_tanimoto = DataStructs.TanimotoSimilarity(fp_1, fp_2)\n",
    "\n",
    "    return similarity_jaccard, similarity_tanimoto\n",
    "    \n"
   ]
  },
  {
   "cell_type": "code",
   "execution_count": 43,
   "id": "36b541df-a451-4c32-9795-8e279ff2c552",
   "metadata": {},
   "outputs": [
    {
     "name": "stdout",
     "output_type": "stream",
     "text": [
      "Similarité de Jaccard : 0.1818\n",
      "Similarité de Tanimoto : 0.1818\n",
      "Similarity (Jaccard): 0.18181818181818177\n",
      "Similarity (Tanimoto): 0.18181818181818182\n"
     ]
    },
    {
     "name": "stderr",
     "output_type": "stream",
     "text": [
      "[17:24:57] DEPRECATION WARNING: please use MorganGenerator\n",
      "[17:24:57] DEPRECATION WARNING: please use MorganGenerator\n",
      "/Users/arthurbenard/miniconda3/lib/python3.11/site-packages/sklearn/metrics/pairwise.py:2317: DataConversionWarning: Data was converted to boolean for metric jaccard\n",
      "  warnings.warn(msg, DataConversionWarning)\n",
      "[17:24:57] DEPRECATION WARNING: please use MorganGenerator\n",
      "[17:24:57] DEPRECATION WARNING: please use MorganGenerator\n",
      "/Users/arthurbenard/miniconda3/lib/python3.11/site-packages/sklearn/metrics/pairwise.py:2317: DataConversionWarning: Data was converted to boolean for metric jaccard\n",
      "  warnings.warn(msg, DataConversionWarning)\n"
     ]
    }
   ],
   "source": [
    "similarity_jaccard, similarity_tanimoto = test_calculate_molecular_similarity()\n",
    "print(f\"Similarité de Jaccard : {similarity_jaccard:.4f}\")\n",
    "print(f\"Similarité de Tanimoto : {similarity_tanimoto:.4f}\")\n",
    "\n",
    "mol_1_smiles = \"CCO\"\n",
    "mol_2_smiles = \"CC(=O)O\"\n",
    "\n",
    "mol_1 = Chem.MolFromSmiles(mol_1_smiles)\n",
    "mol_2 = Chem.MolFromSmiles(mol_2_smiles)\n",
    "\n",
    "similarity_jaccard_ex, similarity_tanimoto_ex = calculate_molecular_similarity(mol_1,mol_2)\n",
    "print(\"Similarity (Jaccard):\", similarity_jaccard_ex)\n",
    "print(\"Similarity (Tanimoto):\", similarity_tanimoto_ex)"
   ]
  },
  {
   "cell_type": "code",
   "execution_count": null,
   "id": "6377b961-0a92-472b-afd6-55e126c27c62",
   "metadata": {},
   "outputs": [],
   "source": []
  }
 ],
 "metadata": {
  "kernelspec": {
   "display_name": "Python 3 (ipykernel)",
   "language": "python",
   "name": "python3"
  },
  "language_info": {
   "codemirror_mode": {
    "name": "ipython",
    "version": 3
   },
   "file_extension": ".py",
   "mimetype": "text/x-python",
   "name": "python",
   "nbconvert_exporter": "python",
   "pygments_lexer": "ipython3",
   "version": "3.11.5"
  }
 },
 "nbformat": 4,
 "nbformat_minor": 5
}
