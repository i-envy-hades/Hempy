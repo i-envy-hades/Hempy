{
 "cells": [
  {
   "cell_type": "code",
   "execution_count": 11,
   "id": "d0ce3771-2b37-402a-8c62-0027ed21a81b",
   "metadata": {},
   "outputs": [],
   "source": [
    "from rdkit import Chem\n",
    "from rdkit.Chem import AllChem\n",
    "from rdkit import DataStructs\n",
    "from sklearn.metrics import pairwise_distances\n",
    "import numpy as np\n",
    "\n",
    "from rdkit.Chem import Draw\n",
    "from rdkit.Chem import Draw\n",
    "#All imports required for the functions, just like the code\n",
    "\n",
    "from hempy.molecule_visualization import *"
   ]
  },
  {
   "cell_type": "code",
   "execution_count": 12,
   "id": "507f8bd1-faac-4f1d-b953-2e2807670991",
   "metadata": {},
   "outputs": [],
   "source": [
    "def test_draw_2D():\n",
    "    molecule_1 = \"O\" #Choose a random SMILES code, for example water\n",
    "    draw_2D(molecule_1)\n",
    "\n",
    "    molecule_2 = \"invalid\" #Select an invalid name\n",
    "    assert draw_2D(molecule_2) == \"Impossible de dessiner la molécule, mauvais format pour les Smiles.\" \n",
    "#Verify that the incorrect smiles raises an error\n",
    "    \n"
   ]
  },
  {
   "cell_type": "code",
   "execution_count": 13,
   "id": "36b541df-a451-4c32-9795-8e279ff2c552",
   "metadata": {},
   "outputs": [
    {
     "name": "stderr",
     "output_type": "stream",
     "text": [
      "[15:49:26] SMILES Parse Error: syntax error while parsing: in\n",
      "[15:49:26] SMILES Parse Error: Failed parsing SMILES 'in' for input: 'in'\n",
      "[15:49:26] SMILES Parse Error: syntax error while parsing: invalid\n",
      "[15:49:26] SMILES Parse Error: Failed parsing SMILES 'invalid' for input: 'invalid'\n"
     ]
    }
   ],
   "source": [
    "test_draw_2D()"
   ]
  },
  {
   "cell_type": "code",
   "execution_count": 1,
   "id": "68d7495a-b7ad-4759-b49f-6bb6ce736967",
   "metadata": {},
   "outputs": [],
   "source": [
    "from rdkit import Chem\n",
    "from rdkit.Chem import AllChem\n",
    "from rdkit import DataStructs\n",
    "from sklearn.metrics import pairwise_distances\n",
    "import numpy as np\n",
    "\n",
    "from rdkit.Chem import Draw\n",
    "from rdkit.Chem import Draw"
   ]
  },
  {
   "cell_type": "code",
   "execution_count": null,
   "id": "6377b961-0a92-472b-afd6-55e126c27c62",
   "metadata": {},
   "outputs": [],
   "source": []
  },
  {
   "cell_type": "code",
   "execution_count": null,
   "id": "4095e0b0-99d2-4a5d-ac6b-f0fea0e36c71",
   "metadata": {},
   "outputs": [],
   "source": []
  },
  {
   "cell_type": "code",
   "execution_count": null,
   "id": "8954ba87-d5b5-43c8-a920-bbccdfa8d8b7",
   "metadata": {},
   "outputs": [],
   "source": []
  }
 ],
 "metadata": {
  "kernelspec": {
   "display_name": "Python 3 (ipykernel)",
   "language": "python",
   "name": "python3"
  },
  "language_info": {
   "codemirror_mode": {
    "name": "ipython",
    "version": 3
   },
   "file_extension": ".py",
   "mimetype": "text/x-python",
   "name": "python",
   "nbconvert_exporter": "python",
   "pygments_lexer": "ipython3",
   "version": "3.11.5"
  }
 },
 "nbformat": 4,
 "nbformat_minor": 5
}
