{
 "cells": [
  {
   "cell_type": "code",
   "execution_count": 8,
   "id": "f72fe5dd-f9bd-4c60-b92c-65883a92c068",
   "metadata": {},
   "outputs": [],
   "source": [
    "from urllib.request import urlopen\n",
    "from urllib.parse import quote\n",
    "\n",
    "\"\"\"\n",
    "urllib.request library is imported, it allows URL links to be opened.\n",
    "urllib.parse library is imported, it is able to combine URL components into URL strings\n",
    "\n",
    "Parameters:\n",
    "----------\n",
    "-string , corresponding to molecule name (ex: 'Water', 'Methanol', ...)\n",
    "\n",
    "Returns:\n",
    "-------\n",
    "-string , corresponding to SMILES code (ex: 'O', 'COH',...)\n",
    "\n",
    "\"\"\"\n",
    "\n",
    "\n",
    "def smiles_code(name):\n",
    "    try:\n",
    "        url = 'http://cactus.nci.nih.gov/chemical/structure/' + quote(name) + '/smiles' #Opens up a page with SMILES code\n",
    "        ans = urlopen(url).read().decode('utf8') #Reads answer\n",
    "        return ans\n",
    "    except:\n",
    "        return 'Did not work' #If the molecule name is not well written or doesn't exist, it returns nothing\n",
    "\n"
   ]
  },
  {
   "cell_type": "code",
   "execution_count": 2,
   "id": "94af45d4-6ac6-4cf8-a7cb-f026ca24cbbf",
   "metadata": {},
   "outputs": [
    {
     "name": "stdin",
     "output_type": "stream",
     "text": [
      "Enter the name of the molecule:  THC\n"
     ]
    },
    {
     "name": "stdout",
     "output_type": "stream",
     "text": [
      "CAS number for THC: Error: 'Compound' object has no attribute 'cas'\n"
     ]
    }
   ],
   "source": [
    "import pubchempy as pcp\n",
    "\n",
    "\n",
    "def get_cas_number(molecule_name):\n",
    "    try:\n",
    "        compound = pcp.get_compounds(molecule_name, 'name')\n",
    "        if compound:\n",
    "            return compound[0].cas\n",
    "        else:\n",
    "            return \"CAS number not found for the given molecule name.\"\n",
    "    except Exception as e:\n",
    "        return f\"Error: {str(e)}\"\n",
    "\n",
    "if __name__ == \"__main__\":\n",
    "    molecule_name = input(\"Enter the name of the molecule: \")\n",
    "    cas_number = get_cas_number(molecule_name)\n",
    "    print(f\"CAS number for {molecule_name}: {cas_number}\")\n"
   ]
  },
  {
   "cell_type": "code",
   "execution_count": 7,
   "id": "0e4f34e4-e532-44c2-813b-4417c2412a2b",
   "metadata": {},
   "outputs": [
    {
     "name": "stdin",
     "output_type": "stream",
     "text": [
      "Enter the name of the molecule:  water\n"
     ]
    },
    {
     "name": "stdout",
     "output_type": "stream",
     "text": [
      "O\n"
     ]
    }
   ],
   "source": [
    "molecule_name = input(\"Enter the name of the molecule: \")\n",
    "smiles_code = smiles_code(molecule_name)\n",
    "print(smiles_code)"
   ]
  },
  {
   "cell_type": "code",
   "execution_count": 1,
   "id": "4adc6a80-b3fd-4b9d-bc02-b66482663170",
   "metadata": {},
   "outputs": [
    {
     "ename": "TypeError",
     "evalue": "CAS.__init__() missing 1 required positional argument: 'cas_rn'",
     "output_type": "error",
     "traceback": [
      "\u001b[0;31m---------------------------------------------------------------------------\u001b[0m",
      "\u001b[0;31mTypeError\u001b[0m                                 Traceback (most recent call last)",
      "Cell \u001b[0;32mIn[1], line 12\u001b[0m\n\u001b[1;32m      9\u001b[0m         \u001b[38;5;28;01mreturn\u001b[39;00m \u001b[38;5;28;01mNone\u001b[39;00m\n\u001b[1;32m     11\u001b[0m molecule_name \u001b[38;5;241m=\u001b[39m \u001b[38;5;124m\"\u001b[39m\u001b[38;5;124mMethanol\u001b[39m\u001b[38;5;124m\"\u001b[39m\n\u001b[0;32m---> 12\u001b[0m cas_number \u001b[38;5;241m=\u001b[39m get_cas_number(molecule_name)\n\u001b[1;32m     13\u001b[0m \u001b[38;5;28mprint\u001b[39m(cas_number)\n",
      "Cell \u001b[0;32mIn[1], line 4\u001b[0m, in \u001b[0;36mget_cas_number\u001b[0;34m(molecule_name)\u001b[0m\n\u001b[1;32m      3\u001b[0m \u001b[38;5;28;01mdef\u001b[39;00m \u001b[38;5;21mget_cas_number\u001b[39m(molecule_name):\n\u001b[0;32m----> 4\u001b[0m     cas \u001b[38;5;241m=\u001b[39m casregnum\u001b[38;5;241m.\u001b[39mCAS()\n\u001b[1;32m      5\u001b[0m     result \u001b[38;5;241m=\u001b[39m cas\u001b[38;5;241m.\u001b[39msearch(molecule_name)\n\u001b[1;32m      6\u001b[0m     \u001b[38;5;28;01mif\u001b[39;00m result:\n",
      "\u001b[0;31mTypeError\u001b[0m: CAS.__init__() missing 1 required positional argument: 'cas_rn'"
     ]
    }
   ],
   "source": [
    "import casregnum\n",
    "\n",
    "def get_cas_number(molecule_name):\n",
    "    cas = casregnum.CAS()\n",
    "    result = cas.search(molecule_name)\n",
    "    if result:\n",
    "        return result[0].cas_number\n",
    "    else:\n",
    "        return None\n",
    "\n",
    "molecule_name = \"Methanol\"\n",
    "cas_number = get_cas_number(molecule_name)\n",
    "print(cas_number)  # Output: 67-56-1"
   ]
  },
  {
   "cell_type": "code",
   "execution_count": null,
   "id": "38821703-ba25-4e5e-a326-fbe6cf7554ae",
   "metadata": {},
   "outputs": [],
   "source": [
    "molecule_name = input(\"Enter the name of the molecule: \")\n",
    "smiles_code = CIRconvert(molecule_name)\n",
    "print(smiles_code)"
   ]
  }
 ],
 "metadata": {
  "kernelspec": {
   "display_name": "Python 3 (ipykernel)",
   "language": "python",
   "name": "python3"
  },
  "language_info": {
   "codemirror_mode": {
    "name": "ipython",
    "version": 3
   },
   "file_extension": ".py",
   "mimetype": "text/x-python",
   "name": "python",
   "nbconvert_exporter": "python",
   "pygments_lexer": "ipython3",
   "version": "3.11.5"
  }
 },
 "nbformat": 4,
 "nbformat_minor": 5
}
