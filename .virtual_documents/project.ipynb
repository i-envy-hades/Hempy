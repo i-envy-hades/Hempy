print("Hello canabis")



## THC: découverte 1960 environ
#masse mol = 314,4617 ± 0,019 5 g/mol
# formule : C21H30O2
# name : tetrahydrocannabinol THC, synonyme : Δ9-THC, dronabinolum
# UICPA : (6aR,10aR)-6,6,9-triméthyl-3-pentyl-6a,7,8,10a-tétrahydrobenzo[c]chromén-1-ol
#propriétés: mol très fragile, hydrosolubilité nulle sauf si contact à graisse alors bonne, 
#se fixe aux récépteurs CB1, densité qui reste plusieurs jours dans le corps, substance pyschotrope
# T° ébullition: 157°C
# solubuility: 2,8 mg/L

## CBD : isomere
#name : cannabidiol, compo organique de famille cannabidoïl, 2e constituant après THC à 5% dans le chanvre
# UICPA : 2-[(1R,6R)-6-isopropényl-3-méthylcyclohex-2-én-1-yl]-5-pentylbenzène-1,3-diol
#mass molecualire = 314,4617 ± 0,019 5 g/mol
#propriété chimique : très lipophile (dans lait maternelle et tissus apideux), diminue vigilance, effets sédatifs élevés
# faire décroire élimination THC dans corps

# cannabinoïdes : phytocannabinoïd = végétaux (présents dans cannabis), endocannabinoïdes = endogènes (sécrétés par les animaux), synthétique (en labo)

# effects: national institute on drug abuse, Cannabis DrugFacts


from 


from rdkit import Chem
from rdkit.Chem.Draw import IPythonConsole
IPythonConsole.ipython_useSVG=True

THC = Chem.MolFromSmiles("CCCCCC1=CC(=C2C3C=C(CCC3C(OC2=C1)(C)C)C)O") #dronabinol from PubChem

print(THC)



THC




CBD = Chem.MolFromSmiles("CCCCCC1=CC(=C(C(=C1)O)C2C=C(CCC2C(=C)C)C)O") #cannabidiol from PubChem

print(CBD)


CBD


print("hello")
