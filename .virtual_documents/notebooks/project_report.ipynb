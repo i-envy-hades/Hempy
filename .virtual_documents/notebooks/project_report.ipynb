


from hempy.molecule_properties import fetch_chemical_properties_by_cas, calculate_molecular_similarity, smiles_code





smiles_code("THC")


smiles_code("CBD")





from rdkit import Chem

THC_smiles = "CCCCCC1=CC(=C2C3C=C(CCC3C(OC2=C1)(C)C)C)O"
CBD_smiles = "CCCCCC1=CC(=C(C(=C1)O)C2C=C(CCC2C(=C)C)C)O"

THC_mol = Chem.MolFromSmiles(THC_smiles)
CBD_mol = Chem.MolFromSmiles(CBD_smiles)





from hempy.molecule_visualization import draw_2D, draw_3D





draw_2D(THC_smiles)


draw_2D(CBD_smiles)





draw_3D(THC_mol,"THC.pdb")


draw_3D(CBD_mol,"CBD.pdb")





cas_number='1972-08-3' #CAS for THC

properties_data, chemical_url = fetch_chemical_properties_by_cas(cas_number)

display(properties_data) 
print(f"URL to chemical page: {chemical_url}")








similarity_jaccard, similarity_tanimoto = calculate_molecular_similarity(THC_mol, CBD_mol)

print("Similarity (Jaccard):", similarity_jaccard)
print("Similarity (Tanimoto):", similarity_tanimoto)





from hempy.synthesis_reactions import visualize_THC_synthesis, visualize_CBD_synthesis





visualize_THC_synthesis()


visualize_CBD_synthesis()








from hempy.survey_results import plot_consumption_percentage, plot_time_vs_age





plot_consumption_percentage()





plot_time_vs_age()






