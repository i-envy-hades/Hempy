


from hempy import *





molecule_properties.smiles_code("THC")


molecule_properties.smiles_code("CBD")





from rdkit import Chem

THC_smiles = "CCCCCC1=CC(=C2C3C=C(CCC3C(OC2=C1)(C)C)C)O"
CBD_smiles = "CCCCCC1=CC(=C(C(=C1)O)C2C=C(CCC2C(=C)C)C)O"

THC_mol = Chem.MolFromSmiles(THC_smiles)
CBD_mol = Chem.MolFromSmiles(CBD_smiles)





molecule_visualization.draw_2D(THC_smiles)


molecule_visualization.draw_2D(CBD_smiles)





molecule_visualization.draw_3D(THC_mol,"THC.pdb")


molecule_visualization.draw_3D(CBD_mol,"CBD.pdb")





cas_number='1972-08-3' #CAS for THC

properties_data, chemical_url = molecule_properties.fetch_chemical_properties_by_cas(cas_number)

display(properties_data) 
print(f"URL to chemical page: {chemical_url}")








similarity_jaccard, similarity_tanimoto = molecule_properties.calculate_molecular_similarity(THC_mol, CBD_mol)

print("Similarity (Jaccard):", similarity_jaccard)
print("Similarity (Tanimoto):", similarity_tanimoto)





synthesis_reactions.visualize_THC_synthesis()


synthesis_reactions.visualize_CBD_synthesis()








survey_results.plot_consumption_percentage()





survey_results.plot_time_vs_age()









