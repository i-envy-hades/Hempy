from hempy.molecule_visualization import draw_2D


draw_2D("O")


from hempy.molecule_visualization import draw_3D


draw_3D("O")


from hempy.molecule_properties import fetch_chemical_properties_by_cas





from hempy.molecule_properties import calculate_molecular_similarity





from hempy.molecule_properties import smiles_code





from hempy.survey_results import plot_consumption_percentage


plot_consumption_percentage()


from hempy.survey_results import plot_time_vs_age


plot_time_vs_age()


from hempy.synthesis_reactions import visualize_THC_synthesis


visualize_THC_synthesis()


from hempy.synthesis_reactions import visualize_CBD_synthesis


visualize_CBD_synthesis()



