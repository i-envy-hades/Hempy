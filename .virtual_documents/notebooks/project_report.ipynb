from rdkit import Chem
from rdkit.Chem import Draw, AllChem
from IPython.display import display


from hempy.synthesis_reactions import visualize_THC_synthesis


import hempy



