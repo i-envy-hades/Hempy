from hempy.molecule_visualization import draw_2D


from hempy.synthesis_reactions import *


visualize_THC_synthesis()


from hempy.synthesis_reactions import visualize_CBD_synthesis


from rdkit import Chem
from rdkit.Chem import Draw, AllChem
from IPython.display import display
#All imports required for the functions, just like the code

from hempy.synthesis_reactions import *


#Reactions of THC and CBD synthesis can easily be seen with these functions
visualize_THC_synthesis()
visualize_CBD_synthesis()


visualize_CBD_synthesis()



