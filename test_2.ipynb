{
 "cells": [
  {
   "cell_type": "code",
   "execution_count": 22,
   "id": "d0ce3771-2b37-402a-8c62-0027ed21a81b",
   "metadata": {},
   "outputs": [],
   "source": [
    "from rdkit import Chem\n",
    "from rdkit.Chem import AllChem\n",
    "from rdkit import DataStructs\n",
    "from sklearn.metrics import pairwise_distances\n",
    "import numpy as np\n",
    "\n",
    "from rdkit.Chem import Draw\n",
    "from rdkit.Chem import Draw\n",
    "#All imports required for the functions, just like the code\n",
    "\n",
    "from hempy.molecule_visualization import *\n"
   ]
  },
  {
   "cell_type": "code",
   "execution_count": 24,
   "id": "507f8bd1-faac-4f1d-b953-2e2807670991",
   "metadata": {},
   "outputs": [
    {
     "name": "stdout",
     "output_type": "stream",
     "text": [
      "<rdkit.Chem.rdchem.Mol object at 0x16709c580>\n"
     ]
    },
    {
     "ename": "NameError",
     "evalue": "name 'IPythonConsole' is not defined",
     "output_type": "error",
     "traceback": [
      "\u001b[0;31m---------------------------------------------------------------------------\u001b[0m",
      "\u001b[0;31mNameError\u001b[0m                                 Traceback (most recent call last)",
      "Cell \u001b[0;32mIn[24], line 3\u001b[0m\n\u001b[1;32m      1\u001b[0m THC_molecule \u001b[38;5;241m=\u001b[39m Chem\u001b[38;5;241m.\u001b[39mMolFromSmiles(\u001b[38;5;124m\"\u001b[39m\u001b[38;5;124mCCCCCC1=CC(=C2C3C=C(CCC3C(OC2=C1)(C)C)C)O\u001b[39m\u001b[38;5;124m\"\u001b[39m) \u001b[38;5;66;03m#Dronabinol from PubChem \u001b[39;00m\n\u001b[1;32m      2\u001b[0m \u001b[38;5;28mprint\u001b[39m(THC_molecule)\n\u001b[0;32m----> 3\u001b[0m draw_2D(THC_molecule)\n",
      "File \u001b[0;32m~/Desktop/Cours EPFL/pract-prog/Project-2024/hempy/molecule_visualization.py:22\u001b[0m, in \u001b[0;36mdraw_2D\u001b[0;34m(smiles)\u001b[0m\n\u001b[1;32m     10\u001b[0m \u001b[38;5;28;01mdef\u001b[39;00m \u001b[38;5;21mdraw_2D\u001b[39m(smiles):\n\u001b[1;32m     11\u001b[0m \u001b[38;5;250m    \u001b[39m\u001b[38;5;124;03m\"\"\"\u001b[39;00m\n\u001b[1;32m     12\u001b[0m \u001b[38;5;124;03m    Draw molecules in 2D according to these smiles with the fonctionnel group hightlight, here the hydroxyl.\u001b[39;00m\n\u001b[1;32m     13\u001b[0m \u001b[38;5;124;03m    -----\u001b[39;00m\n\u001b[0;32m   (...)\u001b[0m\n\u001b[1;32m     20\u001b[0m \u001b[38;5;124;03m    the molecule drawn in 2D \u001b[39;00m\n\u001b[1;32m     21\u001b[0m \u001b[38;5;124;03m    \"\"\"\u001b[39;00m\n\u001b[0;32m---> 22\u001b[0m     IPythonConsole\u001b[38;5;241m.\u001b[39mipython_useSVG \u001b[38;5;241m=\u001b[39m \u001b[38;5;28;01mTrue\u001b[39;00m\n\u001b[1;32m     23\u001b[0m     molecule \u001b[38;5;241m=\u001b[39m Chem\u001b[38;5;241m.\u001b[39mMolFromSmiles(smiles)\n\u001b[1;32m     24\u001b[0m     \u001b[38;5;28;01mif\u001b[39;00m molecule:\n",
      "\u001b[0;31mNameError\u001b[0m: name 'IPythonConsole' is not defined"
     ]
    }
   ],
   "source": [
    "THC_molecule = Chem.MolFromSmiles(\"CCCCCC1=CC(=C2C3C=C(CCC3C(OC2=C1)(C)C)C)O\") #Dronabinol from PubChem \n",
    "print(THC_molecule)\n",
    "draw_2D(THC_molecule)"
   ]
  },
  {
   "cell_type": "code",
   "execution_count": null,
   "id": "935e5a97-4a75-43fb-8a1b-6f408ebe555f",
   "metadata": {},
   "outputs": [],
   "source": []
  },
  {
   "cell_type": "code",
   "execution_count": null,
   "id": "a96a6313-9ce7-4974-9fd1-d9dddd950a8f",
   "metadata": {},
   "outputs": [],
   "source": []
  }
 ],
 "metadata": {
  "kernelspec": {
   "display_name": "Python 3 (ipykernel)",
   "language": "python",
   "name": "python3"
  },
  "language_info": {
   "codemirror_mode": {
    "name": "ipython",
    "version": 3
   },
   "file_extension": ".py",
   "mimetype": "text/x-python",
   "name": "python",
   "nbconvert_exporter": "python",
   "pygments_lexer": "ipython3",
   "version": "3.11.5"
  }
 },
 "nbformat": 4,
 "nbformat_minor": 5
}
