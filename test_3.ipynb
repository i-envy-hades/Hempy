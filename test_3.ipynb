{
 "cells": [
  {
   "cell_type": "code",
   "execution_count": 26,
   "id": "c8c0a530-2a08-4640-a7d6-f4baff35e68d",
   "metadata": {},
   "outputs": [],
   "source": [
    "from hempy.molecule_properties import fetch_chemical_properties_by_cas"
   ]
  },
  {
   "cell_type": "code",
   "execution_count": 27,
   "id": "095ea0c5-2d27-4870-abff-1b8ae8a69b3e",
   "metadata": {},
   "outputs": [],
   "source": [
    "def test_fetch_chemical_properties_by_cas():\n",
    "    # Test with a valid CAS number\n",
    "    cas_number = \"50-00-0\"  # Example CAS number for formaldehyde\n",
    "    data, final_url = fetch_chemical_properties_by_cas(cas_number)\n",
    "    assert \"Error\" not in data.to_string()  # Check if there's no error message\n",
    "    \n",
    "    # Test with an invalid CAS number\n",
    "    invalid_cas_number = \"invalid_cas_number\"\n",
    "    data, final_url = fetch_chemical_properties_by_cas(invalid_cas_number)\n",
    "    assert \"Error\" in data.to_string()  # Check if an error message is returned"
   ]
  },
  {
   "cell_type": "code",
   "execution_count": 28,
   "id": "943faf16-e6e6-49b6-8361-dd9656bf4bc7",
   "metadata": {
    "scrolled": true
   },
   "outputs": [
    {
     "ename": "AssertionError",
     "evalue": "",
     "output_type": "error",
     "traceback": [
      "\u001b[0;31m---------------------------------------------------------------------------\u001b[0m",
      "\u001b[0;31mAssertionError\u001b[0m                            Traceback (most recent call last)",
      "Cell \u001b[0;32mIn[28], line 2\u001b[0m\n\u001b[1;32m      1\u001b[0m \u001b[38;5;66;03m# Call the test function\u001b[39;00m\n\u001b[0;32m----> 2\u001b[0m test_fetch_chemical_properties_by_cas()\n",
      "Cell \u001b[0;32mIn[27], line 10\u001b[0m, in \u001b[0;36mtest_fetch_chemical_properties_by_cas\u001b[0;34m()\u001b[0m\n\u001b[1;32m      8\u001b[0m invalid_cas_number \u001b[38;5;241m=\u001b[39m \u001b[38;5;124m\"\u001b[39m\u001b[38;5;124minvalid_cas_number\u001b[39m\u001b[38;5;124m\"\u001b[39m\n\u001b[1;32m      9\u001b[0m data, final_url \u001b[38;5;241m=\u001b[39m fetch_chemical_properties_by_cas(invalid_cas_number)\n\u001b[0;32m---> 10\u001b[0m \u001b[38;5;28;01massert\u001b[39;00m \u001b[38;5;124m\"\u001b[39m\u001b[38;5;124mError\u001b[39m\u001b[38;5;124m\"\u001b[39m \u001b[38;5;129;01min\u001b[39;00m data\u001b[38;5;241m.\u001b[39mto_string()\n",
      "\u001b[0;31mAssertionError\u001b[0m: "
     ]
    }
   ],
   "source": [
    "# Call the test function\n",
    "test_fetch_chemical_properties_by_cas()"
   ]
  },
  {
   "cell_type": "code",
   "execution_count": null,
   "id": "a315cfdc-884f-4aa4-bcb2-9c21a2a413e4",
   "metadata": {},
   "outputs": [],
   "source": []
  },
  {
   "cell_type": "code",
   "execution_count": null,
   "id": "daa3fa1d-58f3-4ff1-af1c-662d05170dd8",
   "metadata": {},
   "outputs": [],
   "source": []
  }
 ],
 "metadata": {
  "kernelspec": {
   "display_name": "Python 3 (ipykernel)",
   "language": "python",
   "name": "python3"
  },
  "language_info": {
   "codemirror_mode": {
    "name": "ipython",
    "version": 3
   },
   "file_extension": ".py",
   "mimetype": "text/x-python",
   "name": "python",
   "nbconvert_exporter": "python",
   "pygments_lexer": "ipython3",
   "version": "3.11.5"
  }
 },
 "nbformat": 4,
 "nbformat_minor": 5
}
