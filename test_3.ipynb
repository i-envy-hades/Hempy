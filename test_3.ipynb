{
 "cells": [
  {
   "cell_type": "code",
   "execution_count": 45,
   "id": "c8c0a530-2a08-4640-a7d6-f4baff35e68d",
   "metadata": {},
   "outputs": [],
   "source": [
    "from hempy.molecule_properties import cas_number"
   ]
  },
  {
   "cell_type": "code",
   "execution_count": 46,
   "id": "943faf16-e6e6-49b6-8361-dd9656bf4bc7",
   "metadata": {
    "scrolled": true
   },
   "outputs": [],
   "source": [
    "def test_cas_number():\n",
    "    # Test with a sample molecule name, for example acetic acid\n",
    "    molecule_name = \"acetic acid\"\n",
    "    actual_cas_number = \"64-19-7\"\n",
    "    expected_cas_number = cas_number(molecule_name)\n",
    "    \n",
    "    assert expected_cas_number == actual_cas_number\n",
    "#Test with an invalid name\n",
    "    molecule_name = \"invalid name\"\n",
    "    \n",
    "    expected_cas_number = cas_number(molecule_name)\n",
    "\n",
    "    assert expected_cas_number == 'PE html><html lang=\"en\"><head>\\n  <!-- Google Tag Manager -->\\n  <script>(function(w'\n",
    "    "
   ]
  },
  {
   "cell_type": "code",
   "execution_count": 47,
   "id": "a315cfdc-884f-4aa4-bcb2-9c21a2a413e4",
   "metadata": {},
   "outputs": [],
   "source": [
    "test_cas_number()"
   ]
  },
  {
   "cell_type": "code",
   "execution_count": 48,
   "id": "daa3fa1d-58f3-4ff1-af1c-662d05170dd8",
   "metadata": {},
   "outputs": [
    {
     "data": {
      "text/plain": [
       "'PE html><html lang=\"en\"><head>\\n  <!-- Google Tag Manager -->\\n  <script>(function(w'"
      ]
     },
     "execution_count": 48,
     "metadata": {},
     "output_type": "execute_result"
    }
   ],
   "source": [
    "cas_number(\"invalid\")"
   ]
  },
  {
   "cell_type": "code",
   "execution_count": null,
   "id": "a2f48754-80c8-4cc3-a4ee-670512bf717a",
   "metadata": {},
   "outputs": [],
   "source": []
  }
 ],
 "metadata": {
  "kernelspec": {
   "display_name": "Python 3 (ipykernel)",
   "language": "python",
   "name": "python3"
  },
  "language_info": {
   "codemirror_mode": {
    "name": "ipython",
    "version": 3
   },
   "file_extension": ".py",
   "mimetype": "text/x-python",
   "name": "python",
   "nbconvert_exporter": "python",
   "pygments_lexer": "ipython3",
   "version": "3.11.5"
  }
 },
 "nbformat": 4,
 "nbformat_minor": 5
}
