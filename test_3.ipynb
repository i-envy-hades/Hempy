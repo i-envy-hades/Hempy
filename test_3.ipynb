{
 "cells": [
  {
   "cell_type": "code",
   "execution_count": 20,
   "id": "c8c0a530-2a08-4640-a7d6-f4baff35e68d",
   "metadata": {},
   "outputs": [],
   "source": [
    "from hempy.molecule_properties import smiles_code"
   ]
  },
  {
   "cell_type": "code",
   "execution_count": 21,
   "id": "095ea0c5-2d27-4870-abff-1b8ae8a69b3e",
   "metadata": {},
   "outputs": [],
   "source": [
    "def test_smiles_code():\n",
    "    expected_smiles = str(smiles_code(\"Acetic acid\"))\n",
    "    print(smiles_code(\"Acetic acid\"))\n",
    "    actual_smiles = str(\"CC(=O)O\")\n",
    "\n",
    "    assert expected_smiles == actual_smiles\n"
   ]
  },
  {
   "cell_type": "code",
   "execution_count": 22,
   "id": "943faf16-e6e6-49b6-8361-dd9656bf4bc7",
   "metadata": {
    "scrolled": true
   },
   "outputs": [
    {
     "name": "stdout",
     "output_type": "stream",
     "text": [
      "CC(O)=O\n"
     ]
    },
    {
     "ename": "AssertionError",
     "evalue": "",
     "output_type": "error",
     "traceback": [
      "\u001b[0;31m---------------------------------------------------------------------------\u001b[0m",
      "\u001b[0;31mAssertionError\u001b[0m                            Traceback (most recent call last)",
      "Cell \u001b[0;32mIn[22], line 1\u001b[0m\n\u001b[0;32m----> 1\u001b[0m test_smiles_code()\n",
      "Cell \u001b[0;32mIn[21], line 6\u001b[0m, in \u001b[0;36mtest_smiles_code\u001b[0;34m()\u001b[0m\n\u001b[1;32m      3\u001b[0m \u001b[38;5;28mprint\u001b[39m(smiles_code(\u001b[38;5;124m\"\u001b[39m\u001b[38;5;124mAcetic acid\u001b[39m\u001b[38;5;124m\"\u001b[39m))\n\u001b[1;32m      4\u001b[0m actual_smiles \u001b[38;5;241m=\u001b[39m \u001b[38;5;28mstr\u001b[39m(\u001b[38;5;124m\"\u001b[39m\u001b[38;5;124mCC(=O)O\u001b[39m\u001b[38;5;124m\"\u001b[39m)\n\u001b[0;32m----> 6\u001b[0m \u001b[38;5;28;01massert\u001b[39;00m expected_smiles \u001b[38;5;241m==\u001b[39m actual_smiles\n",
      "\u001b[0;31mAssertionError\u001b[0m: "
     ]
    }
   ],
   "source": [
    "test_smiles_code()"
   ]
  },
  {
   "cell_type": "code",
   "execution_count": null,
   "id": "a315cfdc-884f-4aa4-bcb2-9c21a2a413e4",
   "metadata": {},
   "outputs": [],
   "source": []
  },
  {
   "cell_type": "code",
   "execution_count": null,
   "id": "daa3fa1d-58f3-4ff1-af1c-662d05170dd8",
   "metadata": {},
   "outputs": [],
   "source": []
  }
 ],
 "metadata": {
  "kernelspec": {
   "display_name": "Python 3 (ipykernel)",
   "language": "python",
   "name": "python3"
  },
  "language_info": {
   "codemirror_mode": {
    "name": "ipython",
    "version": 3
   },
   "file_extension": ".py",
   "mimetype": "text/x-python",
   "name": "python",
   "nbconvert_exporter": "python",
   "pygments_lexer": "ipython3",
   "version": "3.11.5"
  }
 },
 "nbformat": 4,
 "nbformat_minor": 5
}
