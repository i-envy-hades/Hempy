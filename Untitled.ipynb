{
 "cells": [
  {
   "cell_type": "code",
   "execution_count": 1,
   "id": "976b6111-1987-4bf9-9364-c450b84fa331",
   "metadata": {},
   "outputs": [
    {
     "name": "stdout",
     "output_type": "stream",
     "text": [
      "<rdkit.Chem.rdchem.Mol object at 0x1658487b0>\n",
      "<rdkit.Chem.rdchem.Mol object at 0x165848970>\n"
     ]
    },
    {
     "data": {
      "application/vnd.jupyter.widget-view+json": {
       "model_id": "10fc124f75b644aba564f4dc2f804fee",
       "version_major": 2,
       "version_minor": 0
      },
      "text/plain": []
     },
     "metadata": {},
     "output_type": "display_data"
    }
   ],
   "source": [
    "from hempy.molecule_visualization import draw_3D\n"
   ]
  },
  {
   "cell_type": "code",
   "execution_count": 2,
   "id": "1d82a3fb-5f7d-44dd-98c6-43d3a7c504f4",
   "metadata": {},
   "outputs": [
    {
     "ename": "ArgumentError",
     "evalue": "Python argument types in\n    rdkit.Chem.rdmolops.AddHs(str)\ndid not match C++ signature:\n    AddHs(RDKit::ROMol mol, bool explicitOnly=False, bool addCoords=False, boost::python::api::object onlyOnAtoms=None, bool addResidueInfo=False)",
     "output_type": "error",
     "traceback": [
      "\u001b[0;31m---------------------------------------------------------------------------\u001b[0m",
      "\u001b[0;31mArgumentError\u001b[0m                             Traceback (most recent call last)",
      "Cell \u001b[0;32mIn[2], line 1\u001b[0m\n\u001b[0;32m----> 1\u001b[0m draw_3D(\u001b[38;5;124m\"\u001b[39m\u001b[38;5;124mCCCCCC1=CC(=C2C3C=C(CCC3C(OC2=C1)(C)C)C)O\u001b[39m\u001b[38;5;124m\"\u001b[39m, \u001b[38;5;124m\"\u001b[39m\u001b[38;5;124mTHC.pdb\u001b[39m\u001b[38;5;124m\"\u001b[39m)\n",
      "File \u001b[0;32m~/Desktop/Cours EPFL/pract-prog/Hempy/hempy/molecule_visualization.py:58\u001b[0m, in \u001b[0;36mdraw_3D\u001b[0;34m(molecule, filename)\u001b[0m\n\u001b[1;32m     55\u001b[0m mol \u001b[38;5;241m=\u001b[39m Chem\u001b[38;5;241m.\u001b[39mMolFromSmiles(molecule)\n\u001b[1;32m     57\u001b[0m \u001b[38;5;66;03m# Ajouter des hydrogènes aux molécules\u001b[39;00m\n\u001b[0;32m---> 58\u001b[0m mol \u001b[38;5;241m=\u001b[39m Chem\u001b[38;5;241m.\u001b[39mAddHs(molecule)\n\u001b[1;32m     60\u001b[0m \u001b[38;5;66;03m# Générer les coordonnées 3D\u001b[39;00m\n\u001b[1;32m     61\u001b[0m AllChem\u001b[38;5;241m.\u001b[39mEmbedMolecule(mol)\n",
      "\u001b[0;31mArgumentError\u001b[0m: Python argument types in\n    rdkit.Chem.rdmolops.AddHs(str)\ndid not match C++ signature:\n    AddHs(RDKit::ROMol mol, bool explicitOnly=False, bool addCoords=False, boost::python::api::object onlyOnAtoms=None, bool addResidueInfo=False)"
     ]
    }
   ],
   "source": [
    "\n",
    "draw_3D(\"CCCCCC1=CC(=C2C3C=C(CCC3C(OC2=C1)(C)C)C)O\", \"THC.pdb\")"
   ]
  },
  {
   "cell_type": "code",
   "execution_count": null,
   "id": "3b6352ec-bf5d-428d-bc06-a6ef743b8d18",
   "metadata": {},
   "outputs": [],
   "source": []
  }
 ],
 "metadata": {
  "kernelspec": {
   "display_name": "Python 3 (ipykernel)",
   "language": "python",
   "name": "python3"
  },
  "language_info": {
   "codemirror_mode": {
    "name": "ipython",
    "version": 3
   },
   "file_extension": ".py",
   "mimetype": "text/x-python",
   "name": "python",
   "nbconvert_exporter": "python",
   "pygments_lexer": "ipython3",
   "version": "3.11.5"
  }
 },
 "nbformat": 4,
 "nbformat_minor": 5
}
