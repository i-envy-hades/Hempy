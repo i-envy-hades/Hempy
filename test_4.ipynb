{
 "cells": [
  {
   "cell_type": "code",
   "execution_count": 4,
   "id": "33e69b8d-5e6d-445d-b59b-6ecae58ea695",
   "metadata": {},
   "outputs": [],
   "source": [
    "from hempy.molecule_properties import cas_number"
   ]
  },
  {
   "cell_type": "code",
   "execution_count": 5,
   "id": "babfdcae-f2d1-48f8-b5ed-ee2d7e4d88cc",
   "metadata": {},
   "outputs": [
    {
     "name": "stdout",
     "output_type": "stream",
     "text": [
      "PE html><html lang=\"en\"><head>\n",
      "  <!-- Google Tag Manager -->\n",
      "  <script>(function(w\n"
     ]
    }
   ],
   "source": [
    "print(cas_number(\"invalid\"))"
   ]
  },
  {
   "cell_type": "code",
   "execution_count": null,
   "id": "324a5df5-77fa-43b9-93d5-c2e756c43125",
   "metadata": {},
   "outputs": [],
   "source": []
  }
 ],
 "metadata": {
  "kernelspec": {
   "display_name": "Python 3 (ipykernel)",
   "language": "python",
   "name": "python3"
  },
  "language_info": {
   "codemirror_mode": {
    "name": "ipython",
    "version": 3
   },
   "file_extension": ".py",
   "mimetype": "text/x-python",
   "name": "python",
   "nbconvert_exporter": "python",
   "pygments_lexer": "ipython3",
   "version": "3.11.5"
  }
 },
 "nbformat": 4,
 "nbformat_minor": 5
}
